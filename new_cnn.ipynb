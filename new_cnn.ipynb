{
 "cells": [
  {
   "metadata": {},
   "cell_type": "markdown",
   "source": "## Imports",
   "id": "afe2024c838fa280"
  },
  {
   "metadata": {
    "ExecuteTime": {
     "end_time": "2024-07-31T19:01:29.745076Z",
     "start_time": "2024-07-31T19:01:21.534015Z"
    }
   },
   "cell_type": "code",
   "source": [
    "import torch\n",
    "import torch.nn as nn\n",
    "import torch.optim as optim\n",
    "import torchvision.transforms as transforms\n",
    "from torchvision import datasets\n",
    "from torch.utils.data import DataLoader\n",
    "import torch.nn.functional as F\n",
    "import matplotlib.pyplot as plt"
   ],
   "id": "15b1e0d1c515cc4d",
   "outputs": [],
   "execution_count": 1
  },
  {
   "metadata": {},
   "cell_type": "markdown",
   "source": "## Transform",
   "id": "a38f2f338595a796"
  },
  {
   "metadata": {
    "ExecuteTime": {
     "end_time": "2024-07-31T19:01:29.752097Z",
     "start_time": "2024-07-31T19:01:29.747106Z"
    }
   },
   "cell_type": "code",
   "source": [
    "transform = transforms.Compose([\n",
    "    transforms.RandomHorizontalFlip(),\n",
    "    transforms.RandomRotation(10),\n",
    "    transforms.RandomResizedCrop(32, scale=(0.8, 1.0)),\n",
    "    transforms.ToTensor(),\n",
    "    transforms.Normalize(mean=[0.485, 0.456, 0.406], std=[0.229, 0.224, 0.225])\n",
    "])"
   ],
   "id": "dbe62733197f3197",
   "outputs": [],
   "execution_count": 2
  },
  {
   "metadata": {},
   "cell_type": "markdown",
   "source": "## Load Dataset",
   "id": "6f8cfdcaaf548410"
  },
  {
   "metadata": {
    "ExecuteTime": {
     "end_time": "2024-07-31T19:04:26.586148Z",
     "start_time": "2024-07-31T19:04:26.573954Z"
    }
   },
   "cell_type": "code",
   "source": [
    "# Load datasets\n",
    "train_data = datasets.ImageFolder(root=r\"D:/code/Cnn EEg/database/train/\", transform=transform)\n",
    "test_data = datasets.ImageFolder(root=r\"D:/code/Cnn EEg/database/test/\", transform=transform)\n",
    "\n",
    "train_loader = DataLoader(train_data, batch_size=64, shuffle=True)\n",
    "test_loader = DataLoader(test_data, batch_size=64, shuffle=False)"
   ],
   "id": "323c87157631dfd7",
   "outputs": [],
   "execution_count": 10
  },
  {
   "metadata": {},
   "cell_type": "markdown",
   "source": "",
   "id": "c8926ab418c298c7"
  },
  {
   "metadata": {
    "ExecuteTime": {
     "end_time": "2024-07-31T19:02:38.277589Z",
     "start_time": "2024-07-31T19:02:38.271147Z"
    }
   },
   "cell_type": "code",
   "source": "train_loader.dataset",
   "id": "795da43a65b89d16",
   "outputs": [
    {
     "data": {
      "text/plain": [
       "Dataset ImageFolder\n",
       "    Number of datapoints: 588\n",
       "    Root location: D:/code/Cnn EEg/database/train/\n",
       "    StandardTransform\n",
       "Transform: Compose(\n",
       "               RandomHorizontalFlip(p=0.5)\n",
       "               RandomRotation(degrees=[-10.0, 10.0], interpolation=nearest, expand=False, fill=0)\n",
       "               RandomResizedCrop(size=(32, 32), scale=(0.8, 1.0), ratio=(0.75, 1.3333), interpolation=bilinear, antialias=True)\n",
       "               ToTensor()\n",
       "               Normalize(mean=[0.485, 0.456, 0.406], std=[0.229, 0.224, 0.225])\n",
       "           )"
      ]
     },
     "execution_count": 8,
     "metadata": {},
     "output_type": "execute_result"
    }
   ],
   "execution_count": 8
  },
  {
   "metadata": {},
   "cell_type": "markdown",
   "source": "## Cnn\n",
   "id": "f3def688f3900fa7"
  },
  {
   "metadata": {
    "ExecuteTime": {
     "end_time": "2024-07-31T19:01:29.792519Z",
     "start_time": "2024-07-31T19:01:29.774010Z"
    }
   },
   "cell_type": "code",
   "source": [
    "import torch.nn as nn\n",
    "import torch.nn.functional as F\n",
    "\n",
    "class SchizophreniaCNN(nn.Module):\n",
    "    def __init__(self):\n",
    "        super(SchizophreniaCNN, self).__init__()\n",
    "        self.conv_layer1 = nn.Conv2d(in_channels=3, out_channels=32, kernel_size=3)\n",
    "        self.conv_layer2 = nn.Conv2d(in_channels=32, out_channels=32, kernel_size=3)\n",
    "        self.max_pool1 = nn.MaxPool2d(kernel_size = 2, stride = 2)\n",
    "        \n",
    "        self.conv_layer3 = nn.Conv2d(in_channels=32, out_channels=64, kernel_size=3)\n",
    "        self.conv_layer4 = nn.Conv2d(in_channels=64, out_channels=64, kernel_size=3)\n",
    "        self.max_pool2 = nn.MaxPool2d(kernel_size = 2, stride = 2)\n",
    "        \n",
    "        self.fc1 = nn.Linear(1600, 800)\n",
    "        self.relu1 = nn.ReLU()\n",
    "        self.dropout1 = nn.Dropout(0.5)\n",
    "        self.fc2 = nn.Linear(800, 400)\n",
    "        self.relu2 = nn.ReLU()\n",
    "        self.fc3 = nn.Linear(400, 120)\n",
    "        self.relu3 = nn.ReLU()\n",
    "        self.fc4 = nn.Linear(120, 60)\n",
    "        self.relu4 = nn.ReLU()\n",
    "        self.fc5 = nn.Linear(60, 2)\n",
    "\n",
    "    \n",
    "    # Progresses data across layers    \n",
    "    def forward(self, x):\n",
    "        out = self.conv_layer1(x)\n",
    "        out = self.conv_layer2(out)\n",
    "        out = self.max_pool1(out)\n",
    "        \n",
    "        out = self.conv_layer3(out)\n",
    "        out = self.conv_layer4(out)\n",
    "        out = self.max_pool2(out)\n",
    "                \n",
    "        out = out.reshape(out.size(0), -1)\n",
    "        \n",
    "        out = self.fc1(out)\n",
    "        out = self.relu1(out)\n",
    "        out = self.dropout1(out)\n",
    "        out = self.fc2(out)\n",
    "        out = self.relu2(out)\n",
    "        out = self.fc3(out)\n",
    "        out = self.relu3(out)\n",
    "        out = self.fc4(out)\n",
    "        out = self.relu4(out)\n",
    "        out = self.fc5(out)\n",
    "        \n",
    "        return out"
   ],
   "id": "9ac651041333ec8f",
   "outputs": [],
   "execution_count": 4
  },
  {
   "metadata": {},
   "cell_type": "markdown",
   "source": "## Load Params",
   "id": "5ed507326f2ee15a"
  },
  {
   "metadata": {
    "ExecuteTime": {
     "end_time": "2024-07-31T19:01:29.823069Z",
     "start_time": "2024-07-31T19:01:29.795535Z"
    }
   },
   "cell_type": "code",
   "source": [
    "device = torch.device(\"cuda\" if torch.cuda.is_available() else \"cpu\")\n",
    "model = SchizophreniaCNN().to(device)\n",
    "criterion = nn.CrossEntropyLoss()\n",
    "optimizer = optim.Adam(model.parameters(), lr=0.001)\n",
    "scheduler = optim.lr_scheduler.StepLR(optimizer, step_size=10, gamma=0.1)"
   ],
   "id": "749b89f68415c3d3",
   "outputs": [],
   "execution_count": 5
  },
  {
   "metadata": {
    "ExecuteTime": {
     "end_time": "2024-08-01T03:38:03.519814Z",
     "start_time": "2024-08-01T03:37:10.371829Z"
    }
   },
   "cell_type": "code",
   "source": [
    "import matplotlib.pyplot as plt\n",
    "\n",
    "# Initialize lists to store accuracies\n",
    "train_accuracies = []\n",
    "test_accuracies = []\n",
    "\n",
    "# Training loop\n",
    "epochs = 25\n",
    "test_accu = 0\n",
    "for epoch in range(epochs):\n",
    "    model.train()\n",
    "    running_loss = 0.0\n",
    "    correct = 0\n",
    "    total = 0\n",
    "    for images, labels in train_loader:\n",
    "        images, labels = images.to(device), labels.to(device)\n",
    "        optimizer.zero_grad()\n",
    "        outputs = model(images)\n",
    "        loss = criterion(outputs, labels)\n",
    "        loss.backward()\n",
    "        optimizer.step()\n",
    "\n",
    "        running_loss += loss.item()\n",
    "        _, predicted = torch.max(outputs.data, 1)\n",
    "        total += labels.size(0)\n",
    "        correct += (predicted == labels).sum().item()\n",
    "\n",
    "    scheduler.step()\n",
    "    train_accuracy = 100 * correct / total\n",
    "    train_accuracies.append(train_accuracy)\n",
    "    print(f\"Epoch {epoch + 1}, Loss: {running_loss / len(train_loader)}, Accuracy: {train_accuracy}\")\n",
    "\n",
    "    # Evaluation loop\n",
    "    model.eval()\n",
    "    correct = 0\n",
    "    total = 0\n",
    "    with torch.no_grad():\n",
    "        for images, labels in test_loader:\n",
    "            images, labels = images.to(device), labels.to(device)\n",
    "            outputs = model(images)\n",
    "            _, predicted = torch.max(outputs.data, 1)\n",
    "            total += labels.size(0)\n",
    "            correct += (predicted == labels).sum().item()\n",
    "\n",
    "    test_accuracy = 100 * correct / total\n",
    "    test_accuracies.append(test_accuracy)\n",
    "    print(f'Acuracia das Imagens: {test_accuracy} %')\n",
    "    test_accu += test_accuracy\n",
    "\n",
    "print(f\"AQUI = {test_accu/epochs}\")\n",
    "\n",
    "# Plotting the accuracies\n",
    "plt.figure(figsize=(10, 5))\n",
    "plt.plot(range(1, epochs + 1), train_accuracies, label='Training Accuracy')\n",
    "plt.plot(range(1, epochs + 1), test_accuracies, label='Testing Accuracy')\n",
    "plt.xlabel('Epochs')\n",
    "plt.ylabel('Accuracy')\n",
    "plt.title('Training and Testing Accuracy over Epochs')\n",
    "plt.legend()\n",
    "plt.show()"
   ],
   "id": "74a2c83a3ff8deaf",
   "outputs": [
    {
     "name": "stdout",
     "output_type": "stream",
     "text": [
      "Epoch 1, Loss: 0.5559647414419386, Accuracy: 70.37037037037037\n",
      "Acuracia das Imagens: 63.392857142857146 %\n",
      "Epoch 2, Loss: 0.5567697087923685, Accuracy: 69.66490299823633\n",
      "Acuracia das Imagens: 68.75 %\n",
      "Epoch 3, Loss: 0.5680197013749017, Accuracy: 68.78306878306879\n",
      "Acuracia das Imagens: 67.85714285714286 %\n",
      "Epoch 4, Loss: 0.5574628876315223, Accuracy: 70.72310405643739\n",
      "Acuracia das Imagens: 64.28571428571429 %\n",
      "Epoch 5, Loss: 0.5694927275180817, Accuracy: 68.60670194003528\n",
      "Acuracia das Imagens: 65.17857142857143 %\n",
      "Epoch 6, Loss: 0.5566727850172255, Accuracy: 72.31040564373897\n",
      "Acuracia das Imagens: 68.75 %\n",
      "Epoch 7, Loss: 0.5611777040693495, Accuracy: 71.42857142857143\n",
      "Acuracia das Imagens: 65.17857142857143 %\n",
      "Epoch 8, Loss: 0.5538682275348239, Accuracy: 71.60493827160494\n",
      "Acuracia das Imagens: 66.07142857142857 %\n",
      "Epoch 9, Loss: 0.5664855142434438, Accuracy: 68.95943562610229\n",
      "Acuracia das Imagens: 65.17857142857143 %\n",
      "Epoch 10, Loss: 0.5628361039691501, Accuracy: 70.8994708994709\n",
      "Acuracia das Imagens: 66.96428571428571 %\n",
      "Epoch 11, Loss: 0.5661087963316176, Accuracy: 69.66490299823633\n",
      "Acuracia das Imagens: 66.07142857142857 %\n",
      "Epoch 12, Loss: 0.563509464263916, Accuracy: 69.84126984126983\n",
      "Acuracia das Imagens: 56.25 %\n",
      "Epoch 13, Loss: 0.5626983576350741, Accuracy: 69.66490299823633\n",
      "Acuracia das Imagens: 63.392857142857146 %\n",
      "Epoch 14, Loss: 0.574130137761434, Accuracy: 69.66490299823633\n",
      "Acuracia das Imagens: 66.07142857142857 %\n",
      "Epoch 15, Loss: 0.5624039404922061, Accuracy: 68.07760141093475\n",
      "Acuracia das Imagens: 69.64285714285714 %\n",
      "Epoch 16, Loss: 0.5594535072644552, Accuracy: 69.84126984126983\n",
      "Acuracia das Imagens: 62.5 %\n",
      "Epoch 17, Loss: 0.5714949634340074, Accuracy: 67.01940035273368\n",
      "Acuracia das Imagens: 62.5 %\n",
      "Epoch 18, Loss: 0.5584028992387984, Accuracy: 70.72310405643739\n",
      "Acuracia das Imagens: 63.392857142857146 %\n",
      "Epoch 19, Loss: 0.5512670477231344, Accuracy: 71.60493827160494\n",
      "Acuracia das Imagens: 67.85714285714286 %\n",
      "Epoch 20, Loss: 0.5748765071233114, Accuracy: 69.1358024691358\n",
      "Acuracia das Imagens: 64.28571428571429 %\n",
      "Epoch 21, Loss: 0.565554118818707, Accuracy: 68.60670194003528\n",
      "Acuracia das Imagens: 70.53571428571429 %\n",
      "Epoch 22, Loss: 0.56832930776808, Accuracy: 68.95943562610229\n",
      "Acuracia das Imagens: 66.07142857142857 %\n",
      "Epoch 23, Loss: 0.5687419209215376, Accuracy: 68.25396825396825\n",
      "Acuracia das Imagens: 64.28571428571429 %\n",
      "Epoch 24, Loss: 0.5620074205928378, Accuracy: 69.31216931216932\n",
      "Acuracia das Imagens: 65.17857142857143 %\n",
      "Epoch 25, Loss: 0.5667933424313863, Accuracy: 69.48853615520282\n",
      "Acuracia das Imagens: 73.21428571428571 %\n",
      "AQUI = 65.71428571428571\n"
     ]
    },
    {
     "data": {
      "text/plain": [
       "<Figure size 1000x500 with 1 Axes>"
      ],
      "image/png": "[encoded data removed]"
     },
     "metadata": {},
     "output_type": "display_data"
    }
   ],
   "execution_count": 12
  },
  {
   "metadata": {
    "ExecuteTime": {
     "end_time": "2024-08-01T03:46:37.147787Z",
     "start_time": "2024-08-01T03:46:36.610805Z"
    }
   },
   "cell_type": "code",
   "source": [
    "import matplotlib.pyplot as plt\n",
    "import seaborn as sns\n",
    "from sklearn.metrics import confusion_matrix\n",
    "\n",
    "# Initialize lists to store true and predicted labels\n",
    "true_labels = []\n",
    "predicted_labels = []\n",
    "\n",
    "# Evaluation loop\n",
    "model.eval()\n",
    "with torch.no_grad():\n",
    "    for images, labels in test_loader:\n",
    "        images, labels = images.to(device), labels.to(device)\n",
    "        outputs = model(images)\n",
    "        _, predicted = torch.max(outputs.data, 1)\n",
    "        true_labels.extend(labels.cpu().numpy())\n",
    "        predicted_labels.extend(predicted.cpu().numpy())\n",
    "\n",
    "# Create confusion matrix\n",
    "cm = confusion_matrix(true_labels, predicted_labels)\n",
    "\n",
    "# Plot confusion matrix\n",
    "plt.figure(figsize=(10, 7))\n",
    "sns.heatmap(cm, annot=True, fmt='d', cmap='Blues')\n",
    "plt.xlabel('Valor Predito')\n",
    "plt.ylabel('Real')\n",
    "plt.title('Matriz de Confusão')\n",
    "plt.show()"
   ],
   "id": "a9a61a5a7b1803d3",
   "outputs": [
    {
     "data": {
      "text/plain": [
       "<Figure size 1000x700 with 2 Axes>"
      ],
      "image/png": "[encoded data removed]"
     },
     "metadata": {},
     "output_type": "display_data"
    }
   ],
   "execution_count": 22
  },
  {
   "metadata": {
    "ExecuteTime": {
     "end_time": "2024-08-01T03:44:08.136681Z",
     "start_time": "2024-08-01T03:44:07.904155Z"
    }
   },
   "cell_type": "code",
   "source": [
    "# Import the calculate_precision function\n",
    "from sklearn.metrics import precision_score\n",
    "\n",
    "def calculate_precision(model, test_loader, device):\n",
    "    # Initialize lists to store true and predicted labels\n",
    "    true_labels = []\n",
    "    predicted_labels = []\n",
    "\n",
    "    # Evaluation loop\n",
    "    model.eval()\n",
    "    with torch.no_grad():\n",
    "        for images, labels in test_loader:\n",
    "            images, labels = images.to(device), labels.to(device)\n",
    "            outputs = model(images)\n",
    "            _, predicted = torch.max(outputs.data, 1)\n",
    "            true_labels.extend(labels.cpu().numpy())\n",
    "            predicted_labels.extend(predicted.cpu().numpy())\n",
    "\n",
    "    # Calculate precision\n",
    "    precision = precision_score(true_labels, predicted_labels, average='weighted')\n",
    "    return precision\n",
    "\n",
    "# Call the function and print the precision\n",
    "precision = calculate_precision(model, test_loader, device)\n",
    "print(f'Precision: {precision}')"
   ],
   "id": "fb85c479d225da2",
   "outputs": [
    {
     "name": "stdout",
     "output_type": "stream",
     "text": [
      "Precision: 0.7065331928345627\n"
     ]
    }
   ],
   "execution_count": 18
  },
  {
   "metadata": {
    "ExecuteTime": {
     "end_time": "2024-08-01T03:44:34.073121Z",
     "start_time": "2024-08-01T03:44:33.845121Z"
    }
   },
   "cell_type": "code",
   "source": [
    "from sklearn.metrics import recall_score\n",
    "\n",
    "def calculate_recall(model, test_loader, device):\n",
    "    # Initialize lists to store true and predicted labels\n",
    "    true_labels = []\n",
    "    predicted_labels = []\n",
    "\n",
    "    # Evaluation loop\n",
    "    model.eval()\n",
    "    with torch.no_grad():\n",
    "        for images, labels in test_loader:\n",
    "            images, labels = images.to(device), labels.to(device)\n",
    "            outputs = model(images)\n",
    "            _, predicted = torch.max(outputs.data, 1)\n",
    "            true_labels.extend(labels.cpu().numpy())\n",
    "            predicted_labels.extend(predicted.cpu().numpy())\n",
    "\n",
    "    # Calculate recall\n",
    "    recall = recall_score(true_labels, predicted_labels, average='weighted')\n",
    "    return recall\n",
    "\n",
    "# Call the function and print the recall\n",
    "recall = calculate_recall(model, test_loader, device)\n",
    "print(f'Recall: {recall}')"
   ],
   "id": "e9df557e74c7b4c5",
   "outputs": [
    {
     "name": "stdout",
     "output_type": "stream",
     "text": [
      "Recall: 0.6696428571428571\n"
     ]
    }
   ],
   "execution_count": 19
  },
  {
   "metadata": {
    "ExecuteTime": {
     "end_time": "2024-08-01T03:44:59.017543Z",
     "start_time": "2024-08-01T03:44:58.752648Z"
    }
   },
   "cell_type": "code",
   "source": [
    "from sklearn.metrics import f1_score\n",
    "\n",
    "def calculate_f1(model, test_loader, device):\n",
    "    # Initialize lists to store true and predicted labels\n",
    "    true_labels = []\n",
    "    predicted_labels = []\n",
    "\n",
    "    # Evaluation loop\n",
    "    model.eval()\n",
    "    with torch.no_grad():\n",
    "        for images, labels in test_loader:\n",
    "            images, labels = images.to(device), labels.to(device)\n",
    "            outputs = model(images)\n",
    "            _, predicted = torch.max(outputs.data, 1)\n",
    "            true_labels.extend(labels.cpu().numpy())\n",
    "            predicted_labels.extend(predicted.cpu().numpy())\n",
    "\n",
    "    # Calculate F1 score\n",
    "    f1 = f1_score(true_labels, predicted_labels, average='weighted')\n",
    "    return f1\n",
    "\n",
    "# Call the function and print the F1 score\n",
    "f1 = calculate_f1(model, test_loader, device)\n",
    "print(f'F1 Score: {f1}')"
   ],
   "id": "9d95bffa9dc6b629",
   "outputs": [
    {
     "name": "stdout",
     "output_type": "stream",
     "text": [
      "F1 Score: 0.6618523051815586\n"
     ]
    }
   ],
   "execution_count": 21
  },
  {
   "metadata": {},
   "cell_type": "code",
   "outputs": [],
   "execution_count": null,
   "source": "",
   "id": "9f6daa79e013b3e5"
  }
 ],
 "metadata": {
  "kernelspec": {
   "display_name": "Python 3",
   "language": "python",
   "name": "python3"
  },
  "language_info": {
   "codemirror_mode": {
    "name": "ipython",
    "version": 2
   },
   "file_extension": ".py",
   "mimetype": "text/x-python",
   "name": "python",
   "nbconvert_exporter": "python",
   "pygments_lexer": "ipython2",
   "version": "2.7.6"
  }
 },
 "nbformat": 4,
 "nbformat_minor": 5
}

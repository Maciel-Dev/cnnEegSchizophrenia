{
 "cells": [
  {
   "metadata": {},
   "cell_type": "markdown",
   "source": "## Imports",
   "id": "afe2024c838fa280"
  },
  {
   "metadata": {
    "ExecuteTime": {
     "end_time": "2024-08-05T16:45:02.528291Z",
     "start_time": "2024-08-05T16:44:54.905225Z"
    }
   },
   "cell_type": "code",
   "source": [
    "import torch\n",
    "import torch.nn as nn\n",
    "import torch.optim as optim\n",
    "import torchvision.transforms as transforms\n",
    "from torchvision import datasets\n",
    "from torch.utils.data import DataLoader\n",
    "import torch.nn.functional as F\n",
    "import matplotlib.pyplot as plt"
   ],
   "id": "15b1e0d1c515cc4d",
   "outputs": [],
   "execution_count": 1
  },
  {
   "metadata": {},
   "cell_type": "markdown",
   "source": "## Transform",
   "id": "a38f2f338595a796"
  },
  {
   "metadata": {
    "ExecuteTime": {
     "end_time": "2024-08-05T16:45:02.534994Z",
     "start_time": "2024-08-05T16:45:02.529296Z"
    }
   },
   "cell_type": "code",
   "source": [
    "transform = transforms.Compose([\n",
    "    transforms.RandomHorizontalFlip(),\n",
    "    transforms.RandomRotation(10),\n",
    "    transforms.RandomResizedCrop(32, scale=(0.8, 1.0)),\n",
    "    transforms.ToTensor(),\n",
    "    transforms.Normalize(mean=[0.485, 0.456, 0.406], std=[0.229, 0.224, 0.225])\n",
    "])"
   ],
   "id": "dbe62733197f3197",
   "outputs": [],
   "execution_count": 2
  },
  {
   "metadata": {},
   "cell_type": "markdown",
   "source": "## Load Dataset",
   "id": "6f8cfdcaaf548410"
  },
  {
   "metadata": {
    "ExecuteTime": {
     "end_time": "2024-08-05T16:45:02.549041Z",
     "start_time": "2024-08-05T16:45:02.537992Z"
    }
   },
   "cell_type": "code",
   "source": [
    "# Load datasets\n",
    "train_data = datasets.ImageFolder(root=r\"D:/code/Cnn EEg/database/train/\", transform=transform)\n",
    "test_data = datasets.ImageFolder(root=r\"D:/code/Cnn EEg/database/test/\", transform=transform)\n",
    "\n",
    "train_loader = DataLoader(train_data, batch_size=64, shuffle=True)\n",
    "test_loader = DataLoader(test_data, batch_size=64, shuffle=False)"
   ],
   "id": "323c87157631dfd7",
   "outputs": [],
   "execution_count": 3
  },
  {
   "metadata": {},
   "cell_type": "markdown",
   "source": "",
   "id": "c8926ab418c298c7"
  },
  {
   "metadata": {
    "ExecuteTime": {
     "end_time": "2024-08-05T16:45:02.559703Z",
     "start_time": "2024-08-05T16:45:02.551035Z"
    }
   },
   "cell_type": "code",
   "source": "train_loader.dataset",
   "id": "795da43a65b89d16",
   "outputs": [
    {
     "data": {
      "text/plain": [
       "Dataset ImageFolder\n",
       "    Number of datapoints: 588\n",
       "    Root location: D:/code/Cnn EEg/database/train/\n",
       "    StandardTransform\n",
       "Transform: Compose(\n",
       "               RandomHorizontalFlip(p=0.5)\n",
       "               RandomRotation(degrees=[-10.0, 10.0], interpolation=nearest, expand=False, fill=0)\n",
       "               RandomResizedCrop(size=(32, 32), scale=(0.8, 1.0), ratio=(0.75, 1.3333), interpolation=bilinear, antialias=True)\n",
       "               ToTensor()\n",
       "               Normalize(mean=[0.485, 0.456, 0.406], std=[0.229, 0.224, 0.225])\n",
       "           )"
      ]
     },
     "execution_count": 4,
     "metadata": {},
     "output_type": "execute_result"
    }
   ],
   "execution_count": 4
  },
  {
   "metadata": {},
   "cell_type": "markdown",
   "source": "## Cnn\n",
   "id": "f3def688f3900fa7"
  },
  {
   "metadata": {
    "ExecuteTime": {
     "end_time": "2024-08-05T16:45:02.570258Z",
     "start_time": "2024-08-05T16:45:02.561705Z"
    }
   },
   "cell_type": "code",
   "source": [
    "import torch.nn as nn\n",
    "import torch.nn.functional as F\n",
    "\n",
    "\n",
    "class SchizophreniaCNN(nn.Module):\n",
    "    def __init__(self):\n",
    "        super(SchizophreniaCNN, self).__init__()\n",
    "        self.conv_layer1 = nn.Conv2d(in_channels=3, out_channels=32, kernel_size=3)\n",
    "        self.max_pool1 = nn.MaxPool2d(kernel_size=2, stride=2)\n",
    "        self.conv_layer2 = nn.Conv2d(in_channels=32, out_channels=32, kernel_size=3)\n",
    "        self.max_pool2 = nn.MaxPool2d(kernel_size=2, stride=2)\n",
    "        self.conv_layer3 = nn.Conv2d(in_channels=32, out_channels=64, kernel_size=3)\n",
    "        self.max_pool3 = nn.MaxPool2d(kernel_size=2, stride=2)\n",
    "\n",
    "        self.fc1 = nn.Linear(256, 1024)\n",
    "        self.relu1 = nn.ReLU()\n",
    "        self.dropout1 = nn.Dropout(0.2)\n",
    "        self.fc2 = nn.Linear(1024, 512)  # Adjusted value\n",
    "        self.relu2 = nn.ReLU()\n",
    "        self.fc3 = nn.Linear(512, 2)\n",
    "\n",
    "    # Progresses data across layers    \n",
    "    def forward(self, x):\n",
    "        out = self.conv_layer1(x)\n",
    "        out = self.max_pool1(out)\n",
    "        out = self.conv_layer2(out)\n",
    "        out = self.max_pool2(out)\n",
    "\n",
    "        out = self.conv_layer3(out)\n",
    "        out = self.max_pool3(out)\n",
    "\n",
    "        out = out.reshape(out.size(0), -1)\n",
    "\n",
    "        out = self.fc1(out)\n",
    "        out = self.relu1(out)\n",
    "        out = self.dropout1(out)\n",
    "        out = self.fc2(out)\n",
    "        out = self.relu2(out)\n",
    "        out = self.fc3(out)\n",
    "\n",
    "        return out"
   ],
   "id": "9ac651041333ec8f",
   "outputs": [],
   "execution_count": 5
  },
  {
   "metadata": {},
   "cell_type": "markdown",
   "source": "## Load Params",
   "id": "5ed507326f2ee15a"
  },
  {
   "metadata": {
    "ExecuteTime": {
     "end_time": "2024-08-05T16:45:02.589635Z",
     "start_time": "2024-08-05T16:45:02.572257Z"
    }
   },
   "cell_type": "code",
   "source": [
    "device = torch.device(\"cuda\" if torch.cuda.is_available() else \"cpu\")\n",
    "model = SchizophreniaCNN().to(device)\n",
    "criterion = nn.CrossEntropyLoss()\n",
    "optimizer = optim.Adam(model.parameters(), lr=0.001)\n",
    "scheduler = optim.lr_scheduler.StepLR(optimizer, step_size=10, gamma=0.1)"
   ],
   "id": "749b89f68415c3d3",
   "outputs": [],
   "execution_count": 6
  },
  {
   "metadata": {
    "ExecuteTime": {
     "end_time": "2024-08-05T16:45:46.290219Z",
     "start_time": "2024-08-05T16:45:02.590636Z"
    }
   },
   "cell_type": "code",
   "source": [
    "# Initialize lists to store accuracies and labels\n",
    "train_accuracies = []\n",
    "test_accuracies = []\n",
    "\n",
    "\n",
    "# Training loop\n",
    "epochs = 25\n",
    "test_accu = 0\n",
    "for epoch in range(epochs):\n",
    "    model.train()\n",
    "    running_loss = 0.0\n",
    "    correct = 0\n",
    "    total = 0\n",
    "    for images, labels in train_loader:\n",
    "        images, labels = images.to(device), labels.to(device)\n",
    "        optimizer.zero_grad()\n",
    "        outputs = model(images)\n",
    "        loss = criterion(outputs, labels)\n",
    "        loss.backward()\n",
    "        optimizer.step()\n",
    "\n",
    "        running_loss += loss.item()\n",
    "        _, predicted = torch.max(outputs.data, 1)\n",
    "        total += labels.size(0)\n",
    "        correct += (predicted == labels).sum().item()\n",
    "\n",
    "    scheduler.step()\n",
    "    train_accuracy = 100 * correct / total\n",
    "    train_accuracies.append(train_accuracy)\n",
    "    print(f\"Epoch {epoch + 1}, Loss: {running_loss / len(train_loader)}, Accuracy: {train_accuracy}\")\n",
    "\n",
    "    # Evaluation loop\n",
    "    model.eval()\n",
    "    correct = 0\n",
    "    total = 0\n",
    "    with torch.no_grad():\n",
    "        for images, labels in test_loader:\n",
    "            images, labels = images.to(device), labels.to(device)\n",
    "            outputs = model(images)\n",
    "            _, predicted = torch.max(outputs.data, 1)\n",
    "\n",
    "            total += labels.size(0)\n",
    "            correct += (predicted == labels).sum().item()\n",
    "\n",
    "    test_accuracy = 100 * correct / total\n",
    "    test_accuracies.append(test_accuracy)\n",
    "    print(f'Acuracia das Imagens: {test_accuracy} %')\n",
    "    test_accu += test_accuracy\n",
    "\n",
    "# Plotting the accuracies\n",
    "plt.figure(figsize=(10, 5))\n",
    "# plt.plot(range(1, epochs + 1), train_accuracies, label='Acurácia de Treinamento')\n",
    "plt.plot(range(1, epochs + 1), test_accuracies, label='Acurácia de Teste')\n",
    "plt.xlabel('Épocas')\n",
    "plt.ylabel('Acurácia')\n",
    "plt.title('Gráfico de Teste')\n",
    "plt.legend()\n",
    "plt.show()"
   ],
   "id": "74a2c83a3ff8deaf",
   "outputs": [
    {
     "name": "stdout",
     "output_type": "stream",
     "text": [
      "Epoch 1, Loss: 0.7004795670509338, Accuracy: 51.19047619047619\n",
      "Acuracia das Imagens: 50.892857142857146 %\n",
      "Epoch 2, Loss: 0.6926748931407929, Accuracy: 52.38095238095238\n",
      "Acuracia das Imagens: 54.464285714285715 %\n",
      "Epoch 3, Loss: 0.6786590099334717, Accuracy: 55.10204081632653\n",
      "Acuracia das Imagens: 52.67857142857143 %\n",
      "Epoch 4, Loss: 0.6833608448505402, Accuracy: 57.142857142857146\n",
      "Acuracia das Imagens: 55.357142857142854 %\n",
      "Epoch 5, Loss: 0.6531817436218261, Accuracy: 61.054421768707485\n",
      "Acuracia das Imagens: 53.57142857142857 %\n",
      "Epoch 6, Loss: 0.6337908864021301, Accuracy: 63.605442176870746\n",
      "Acuracia das Imagens: 57.142857142857146 %\n",
      "Epoch 7, Loss: 0.6492921590805054, Accuracy: 62.585034013605444\n",
      "Acuracia das Imagens: 56.25 %\n",
      "Epoch 8, Loss: 0.6444608032703399, Accuracy: 61.564625850340136\n",
      "Acuracia das Imagens: 60.714285714285715 %\n",
      "Epoch 9, Loss: 0.6165801554918289, Accuracy: 63.435374149659864\n",
      "Acuracia das Imagens: 58.92857142857143 %\n",
      "Epoch 10, Loss: 0.6099254190921783, Accuracy: 66.15646258503402\n",
      "Acuracia das Imagens: 54.464285714285715 %\n",
      "Epoch 11, Loss: 0.5847174167633057, Accuracy: 68.02721088435374\n",
      "Acuracia das Imagens: 63.392857142857146 %\n",
      "Epoch 12, Loss: 0.5808792591094971, Accuracy: 66.49659863945578\n",
      "Acuracia das Imagens: 62.5 %\n",
      "Epoch 13, Loss: 0.5681462347507477, Accuracy: 70.578231292517\n",
      "Acuracia das Imagens: 66.07142857142857 %\n",
      "Epoch 14, Loss: 0.5537056267261505, Accuracy: 69.89795918367346\n",
      "Acuracia das Imagens: 64.28571428571429 %\n",
      "Epoch 15, Loss: 0.5808036506175995, Accuracy: 69.21768707482993\n",
      "Acuracia das Imagens: 63.392857142857146 %\n",
      "Epoch 16, Loss: 0.5555870652198791, Accuracy: 70.74829931972789\n",
      "Acuracia das Imagens: 60.714285714285715 %\n",
      "Epoch 17, Loss: 0.5655331879854202, Accuracy: 70.74829931972789\n",
      "Acuracia das Imagens: 67.85714285714286 %\n",
      "Epoch 18, Loss: 0.533383971452713, Accuracy: 70.06802721088435\n",
      "Acuracia das Imagens: 65.17857142857143 %\n",
      "Epoch 19, Loss: 0.5350218921899795, Accuracy: 70.74829931972789\n",
      "Acuracia das Imagens: 64.28571428571429 %\n",
      "Epoch 20, Loss: 0.5691013395786285, Accuracy: 71.59863945578232\n",
      "Acuracia das Imagens: 66.96428571428571 %\n",
      "Epoch 21, Loss: 0.5355037480592728, Accuracy: 72.10884353741497\n",
      "Acuracia das Imagens: 62.5 %\n",
      "Epoch 22, Loss: 0.5503717184066772, Accuracy: 71.7687074829932\n",
      "Acuracia das Imagens: 65.17857142857143 %\n",
      "Epoch 23, Loss: 0.5591698974370957, Accuracy: 71.42857142857143\n",
      "Acuracia das Imagens: 68.75 %\n",
      "Epoch 24, Loss: 0.5715187638998032, Accuracy: 70.91836734693878\n",
      "Acuracia das Imagens: 66.96428571428571 %\n",
      "Epoch 25, Loss: 0.5562291800975799, Accuracy: 70.74829931972789\n",
      "Acuracia das Imagens: 63.392857142857146 %\n"
     ]
    },
    {
     "data": {
      "text/plain": [
       "<Figure size 1000x500 with 1 Axes>"
      ],
      "image/png": "[encoded data removed]"
     },
     "metadata": {},
     "output_type": "display_data"
    }
   ],
   "execution_count": 7
  },
  {
   "metadata": {
    "ExecuteTime": {
     "end_time": "2024-08-05T16:45:47.230451Z",
     "start_time": "2024-08-05T16:45:46.291224Z"
    }
   },
   "cell_type": "code",
   "source": [
    "import matplotlib.pyplot as plt\n",
    "import seaborn as sns\n",
    "from sklearn.metrics import confusion_matrix\n",
    "\n",
    "true_labels = []\n",
    "predicted_labels = []\n",
    "\n",
    "# Evaluation loop\n",
    "model.eval()\n",
    "with torch.no_grad():\n",
    "    for images, labels in test_loader:\n",
    "        images, labels = images.to(device), labels.to(device)\n",
    "        outputs = model(images)\n",
    "        _, predicted = torch.max(outputs.data, 1)\n",
    "        true_labels.extend(labels.cpu().numpy())\n",
    "        predicted_labels.extend(predicted.cpu().numpy())\n",
    "        \n",
    "cm = confusion_matrix(true_labels, predicted_labels)\n",
    "\n",
    "# Plot confusion matrix\n",
    "plt.figure(figsize=(10, 7))\n",
    "sns.heatmap(cm, annot=True, fmt='d', cmap='Blues', xticklabels=['Normal', 'Esquizofrenia'],\n",
    "            yticklabels=['Normal', 'Esquizofrenia'])\n",
    "plt.xlabel('Valor Predito')\n",
    "plt.ylabel('Real')\n",
    "plt.title('Matriz de Confusão')\n",
    "plt.show()"
   ],
   "id": "a9a61a5a7b1803d3",
   "outputs": [
    {
     "data": {
      "text/plain": [
       "<Figure size 1000x700 with 2 Axes>"
      ],
      "image/png": "[encoded data removed]"
     },
     "metadata": {},
     "output_type": "display_data"
    }
   ],
   "execution_count": 8
  },
  {
   "metadata": {
    "ExecuteTime": {
     "end_time": "2024-08-05T16:45:47.245492Z",
     "start_time": "2024-08-05T16:45:47.232455Z"
    }
   },
   "cell_type": "code",
   "source": [
    "# Import the calculate_precision function\n",
    "from sklearn.metrics import precision_score\n",
    "\n",
    "precision = precision_score(true_labels, predicted_labels, average='weighted')\n",
    "print(f'Precision: {precision}')"
   ],
   "id": "fb85c479d225da2",
   "outputs": [
    {
     "name": "stdout",
     "output_type": "stream",
     "text": [
      "Precision: 0.6478129713423831\n"
     ]
    }
   ],
   "execution_count": 9
  },
  {
   "metadata": {
    "ExecuteTime": {
     "end_time": "2024-08-05T16:45:47.255695Z",
     "start_time": "2024-08-05T16:45:47.246481Z"
    }
   },
   "cell_type": "code",
   "source": [
    "from sklearn.metrics import recall_score\n",
    "\n",
    "# Call the function and print the recall\n",
    "recall = recall_score(true_labels, predicted_labels, average='weighted')\n",
    "print(f'Recall: {recall}')"
   ],
   "id": "e9df557e74c7b4c5",
   "outputs": [
    {
     "name": "stdout",
     "output_type": "stream",
     "text": [
      "Recall: 0.625\n"
     ]
    }
   ],
   "execution_count": 10
  },
  {
   "metadata": {
    "ExecuteTime": {
     "end_time": "2024-08-05T16:45:47.265517Z",
     "start_time": "2024-08-05T16:45:47.256687Z"
    }
   },
   "cell_type": "code",
   "source": [
    "from sklearn.metrics import f1_score\n",
    "\n",
    "# Call the function and print the F1 score\n",
    "f1 = f1_score(true_labels, predicted_labels, average='weighted')\n",
    "print(f'F1 Score: {f1}')"
   ],
   "id": "9d95bffa9dc6b629",
   "outputs": [
    {
     "name": "stdout",
     "output_type": "stream",
     "text": [
      "F1 Score: 0.609950248756219\n"
     ]
    }
   ],
   "execution_count": 11
  },
  {
   "metadata": {
    "ExecuteTime": {
     "end_time": "2024-08-05T16:45:47.271761Z",
     "start_time": "2024-08-05T16:45:47.268513Z"
    }
   },
   "cell_type": "code",
   "source": "",
   "id": "af8a24946cb15eea",
   "outputs": [],
   "execution_count": 11
  }
 ],
 "metadata": {
  "kernelspec": {
   "display_name": "Python 3",
   "language": "python",
   "name": "python3"
  },
  "language_info": {
   "codemirror_mode": {
    "name": "ipython",
    "version": 2
   },
   "file_extension": ".py",
   "mimetype": "text/x-python",
   "name": "python",
   "nbconvert_exporter": "python",
   "pygments_lexer": "ipython2",
   "version": "2.7.6"
  }
 },
 "nbformat": 4,
 "nbformat_minor": 5
}

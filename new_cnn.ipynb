{
 "cells": [
  {
   "metadata": {},
   "cell_type": "markdown",
   "source": "## Imports",
   "id": "afe2024c838fa280"
  },
  {
   "metadata": {
    "ExecuteTime": {
     "end_time": "2024-09-23T17:40:06.791506Z",
     "start_time": "2024-09-23T17:40:06.768563Z"
    }
   },
   "cell_type": "code",
   "source": [
    "import torch\n",
    "import torch.nn as nn\n",
    "import torch.optim as optim\n",
    "import torchvision.transforms as transforms\n",
    "from torchvision import datasets\n",
    "from torch.utils.data import DataLoader\n",
    "import torch.nn.functional as F\n",
    "import matplotlib.pyplot as plt"
   ],
   "id": "15b1e0d1c515cc4d",
   "outputs": [],
   "execution_count": 81
  },
  {
   "metadata": {},
   "cell_type": "markdown",
   "source": "## Transform",
   "id": "a38f2f338595a796"
  },
  {
   "metadata": {
    "ExecuteTime": {
     "end_time": "2024-09-23T17:40:06.914649Z",
     "start_time": "2024-09-23T17:40:06.894494Z"
    }
   },
   "cell_type": "code",
   "source": [
    "transform = transforms.Compose([\n",
    "    transforms.RandomHorizontalFlip(),\n",
    "    transforms.RandomRotation(10),\n",
    "    transforms.RandomResizedCrop(32, scale=(0.8, 1.0)),\n",
    "    transforms.ToTensor(),\n",
    "    transforms.Normalize(mean=[0.485, 0.456, 0.406], std=[0.229, 0.224, 0.225])\n",
    "])"
   ],
   "id": "dbe62733197f3197",
   "outputs": [],
   "execution_count": 82
  },
  {
   "metadata": {},
   "cell_type": "markdown",
   "source": "## Load Dataset",
   "id": "6f8cfdcaaf548410"
  },
  {
   "metadata": {
    "ExecuteTime": {
     "end_time": "2024-09-23T17:40:06.955784Z",
     "start_time": "2024-09-23T17:40:06.916653Z"
    }
   },
   "cell_type": "code",
   "source": [
    "# Load datasets\n",
    "train_data = datasets.ImageFolder(root=r\"D:/Codes/Cnn EEg/cnnEegSchizophrenia/database/train/\", transform=transform)\n",
    "test_data = datasets.ImageFolder(root=r\"D:/Codes/Cnn EEg/cnnEegSchizophrenia/database/test/\", transform=transform)\n",
    "\n",
    "train_loader = DataLoader(train_data, batch_size=64, shuffle=True)\n",
    "test_loader = DataLoader(test_data, batch_size=64, shuffle=False)"
   ],
   "id": "323c87157631dfd7",
   "outputs": [],
   "execution_count": 83
  },
  {
   "metadata": {},
   "cell_type": "markdown",
   "source": "",
   "id": "c8926ab418c298c7"
  },
  {
   "metadata": {
    "ExecuteTime": {
     "end_time": "2024-09-23T17:40:06.982111Z",
     "start_time": "2024-09-23T17:40:06.958783Z"
    }
   },
   "cell_type": "code",
   "source": "train_loader.dataset",
   "id": "795da43a65b89d16",
   "outputs": [
    {
     "data": {
      "text/plain": [
       "Dataset ImageFolder\n",
       "    Number of datapoints: 588\n",
       "    Root location: D:/Codes/Cnn EEg/cnnEegSchizophrenia/database/train/\n",
       "    StandardTransform\n",
       "Transform: Compose(\n",
       "               RandomHorizontalFlip(p=0.5)\n",
       "               RandomRotation(degrees=[-10.0, 10.0], interpolation=nearest, expand=False, fill=0)\n",
       "               RandomResizedCrop(size=(32, 32), scale=(0.8, 1.0), ratio=(0.75, 1.3333), interpolation=bilinear, antialias=True)\n",
       "               ToTensor()\n",
       "               Normalize(mean=[0.485, 0.456, 0.406], std=[0.229, 0.224, 0.225])\n",
       "           )"
      ]
     },
     "execution_count": 84,
     "metadata": {},
     "output_type": "execute_result"
    }
   ],
   "execution_count": 84
  },
  {
   "metadata": {},
   "cell_type": "markdown",
   "source": "## Cnn\n",
   "id": "f3def688f3900fa7"
  },
  {
   "metadata": {
    "ExecuteTime": {
     "end_time": "2024-09-23T17:40:07.001114Z",
     "start_time": "2024-09-23T17:40:06.983110Z"
    }
   },
   "cell_type": "code",
   "source": [
    "import torch.nn as nn\n",
    "import torch.nn.functional as F\n",
    "\n",
    "\n",
    "class SchizophreniaCNN(nn.Module):\n",
    "    def __init__(self):\n",
    "        super(SchizophreniaCNN, self).__init__()\n",
    "        self.conv_layer1 = nn.Conv2d(in_channels=3, out_channels=32, kernel_size=3)\n",
    "        self.max_pool1 = nn.MaxPool2d(kernel_size=3, stride=3)\n",
    "        self.conv_layer2 = nn.Conv2d(in_channels=32, out_channels=64, kernel_size=3)\n",
    "        self.max_pool2 = nn.MaxPool2d(kernel_size=2, stride=2)\n",
    "        self.conv_layer3 = nn.Conv2d(in_channels=64, out_channels=128, kernel_size=3)\n",
    "        self.max_pool3 = nn.MaxPool2d(kernel_size=2, stride=2)\n",
    "\n",
    "\n",
    "        self.fc1 = nn.Linear(128, 1024)\n",
    "        self.relu1 = nn.ReLU()\n",
    "        self.dropout1 = nn.Dropout(0.5)\n",
    "        self.fc2 = nn.Linear(1024, 2)  # Adjusted value\n",
    "        self.relu2 = nn.ReLU()\n",
    "\n",
    "    # Progresses data across layers    \n",
    "    def forward(self, x):\n",
    "        out = self.conv_layer1(x)\n",
    "        out = self.max_pool1(out)\n",
    "        out = self.conv_layer2(out)\n",
    "        out = self.max_pool2(out)\n",
    "        out = self.conv_layer3(out)\n",
    "        out = self.max_pool3(out)\n",
    "\n",
    "        \n",
    "\n",
    "        out = out.reshape(out.size(0), -1)\n",
    "\n",
    "        out = self.fc1(out)\n",
    "        out = self.relu1(out)\n",
    "        out = self.dropout1(out)\n",
    "        out = self.fc2(out)\n",
    "        out = self.relu2(out)\n",
    "\n",
    "        return out"
   ],
   "id": "9ac651041333ec8f",
   "outputs": [],
   "execution_count": 85
  },
  {
   "metadata": {},
   "cell_type": "markdown",
   "source": "## Load Params",
   "id": "5ed507326f2ee15a"
  },
  {
   "metadata": {
    "ExecuteTime": {
     "end_time": "2024-09-23T17:40:07.044740Z",
     "start_time": "2024-09-23T17:40:07.003110Z"
    }
   },
   "cell_type": "code",
   "source": [
    "device = torch.device(\"cuda\")\n",
    "print(device)\n",
    "model = SchizophreniaCNN().to(device)\n",
    "criterion = nn.CrossEntropyLoss()\n",
    "optimizer = optim.Adam(model.parameters(), lr=0.00001, weight_decay=1e-5)\n",
    "scheduler = optim.lr_scheduler.StepLR(optimizer, step_size=2048, gamma=0.95)"
   ],
   "id": "749b89f68415c3d3",
   "outputs": [
    {
     "name": "stdout",
     "output_type": "stream",
     "text": [
      "cuda\n"
     ]
    }
   ],
   "execution_count": 86
  },
  {
   "metadata": {
    "ExecuteTime": {
     "end_time": "2024-09-23T18:38:29.211467Z",
     "start_time": "2024-09-23T18:38:29.205721Z"
    }
   },
   "cell_type": "code",
   "source": [
    "# Initialize lists to store accuracies and labels\n",
    "train_accuracies = []\n",
    "test_accuracies = []\n",
    "\n",
    "\n",
    "# Training loop\n",
    "epochs = 3000\n",
    "test_accu = 0\n",
    "for epoch in range(epochs):\n",
    "    model.train()\n",
    "    running_loss = 0.0\n",
    "    correct = 0\n",
    "    total = 0\n",
    "    for images, labels in train_loader:\n",
    "        images, labels = images.to(device), labels.to(device)\n",
    "        optimizer.zero_grad()\n",
    "        outputs = model(images)\n",
    "        loss = criterion(outputs, labels)\n",
    "        loss.backward()\n",
    "        optimizer.step()\n",
    "\n",
    "        running_loss += loss.item()\n",
    "        _, predicted = torch.max(outputs.data, 1)\n",
    "        total += labels.size(0)\n",
    "        correct += (predicted == labels).sum().item()\n",
    "\n",
    "    scheduler.step()\n",
    "    train_accuracy = 100 * correct / total\n",
    "    train_accuracies.append(train_accuracy)\n",
    "    print(f\"Epoch {epoch + 1}, Loss: {running_loss / len(train_loader)}, Accuracy: {train_accuracy}\")\n",
    "\n",
    "    # Evaluation loop\n",
    "    model.eval()\n",
    "    correct = 0\n",
    "    total = 0\n",
    "    with torch.no_grad():\n",
    "        for images, labels in test_loader:\n",
    "            images, labels = images.to(device), labels.to(device)\n",
    "            outputs = model(images)\n",
    "            _, predicted = torch.max(outputs.data, 1)\n",
    "\n",
    "            total += labels.size(0)\n",
    "            correct += (predicted == labels).sum().item()\n",
    "\n",
    "    test_accuracy = (100 * correct) / total\n",
    "    test_accuracies.append(test_accuracy)\n",
    "    print(f'Acuracia das Imagens: {test_accuracy} %')\n",
    "    test_accu += test_accuracy\n",
    "\n",
    "# Plotting the accuracies\n",
    "plt.figure(figsize=(10, 5))\n",
    "# plt.plot(range(1, epochs + 1), train_accuracies, label='Acurácia de Treinamento')\n",
    "plt.plot(range(1, epochs + 1), test_accuracies, label='Acurácia de Teste')\n",
    "plt.xlabel('Épocas')\n",
    "plt.ylabel('Acurácia')\n",
    "plt.title('Gráfico de Teste')\n",
    "plt.legend()\n",
    "plt.show()"
   ],
   "id": "74a2c83a3ff8deaf",
   "outputs": [],
   "execution_count": 100
  },
  {
   "metadata": {
    "ExecuteTime": {
     "end_time": "2024-09-23T18:34:21.754509Z",
     "start_time": "2024-09-23T18:34:21.551167Z"
    }
   },
   "cell_type": "code",
   "source": [
    "plt.figure(figsize=(10, 5))\n",
    "plt.plot(range(1, epochs + 1), train_accuracies, label='Acurácia de Treinamento')\n",
    "plt.xlabel('Épocas')\n",
    "plt.ylabel('Acurácia')\n",
    "plt.title('Gráfico de Treinamento')\n",
    "plt.legend()\n",
    "plt.show()\n",
    "\n"
   ],
   "id": "251dde7cf3bde1fe",
   "outputs": [
    {
     "data": {
      "text/plain": [
       "<Figure size 1000x500 with 1 Axes>"
      ],
      "image/png": "[encoded data removed]"
     },
     "metadata": {},
     "output_type": "display_data"
    }
   ],
   "execution_count": 93
  },
  {
   "metadata": {
    "ExecuteTime": {
     "end_time": "2024-09-23T18:36:11.763324Z",
     "start_time": "2024-09-23T18:36:11.601308Z"
    }
   },
   "cell_type": "code",
   "source": [
    "import matplotlib.pyplot as plt\n",
    "import seaborn as sns\n",
    "from sklearn.metrics import confusion_matrix\n",
    "\n",
    "true_labels = []\n",
    "predicted_labels = []\n",
    "\n",
    "# Evaluation loop\n",
    "model.eval()\n",
    "with torch.no_grad():\n",
    "    for images, labels in test_loader:\n",
    "        images, labels = images.to(device), labels.to(device)\n",
    "        outputs = model(images)\n",
    "        _, predicted = torch.max(outputs.data, 1)\n",
    "        true_labels.extend(labels.cpu().numpy())\n",
    "        predicted_labels.extend(predicted.cpu().numpy())\n",
    "        \n",
    "cm = confusion_matrix(true_labels, predicted_labels)\n",
    "\n",
    "# Plot confusion matrix\n",
    "plt.figure(figsize=(10, 7))\n",
    "sns.heatmap(cm, annot=True, fmt='d', cmap='Blues', xticklabels=['Normal', 'Esquizofrenia'],\n",
    "            yticklabels=['Normal', 'Esquizofrenia'])\n",
    "plt.xlabel('Valor Predito')\n",
    "plt.ylabel('Real')\n",
    "plt.title('Matriz de Confusão')\n",
    "plt.show()"
   ],
   "id": "a9a61a5a7b1803d3",
   "outputs": [],
   "execution_count": 96
  },
  {
   "metadata": {
    "ExecuteTime": {
     "end_time": "2024-09-23T18:36:39.025865Z",
     "start_time": "2024-09-23T18:36:39.021417Z"
    }
   },
   "cell_type": "code",
   "source": [
    "# Import the calculate_precision function\n",
    "from sklearn.metrics import precision_score\n",
    "\n",
    "precision = precision_score(true_labels, predicted_labels, average='weighted')\n",
    "print(f'Precision: {precision}')"
   ],
   "id": "fb85c479d225da2",
   "outputs": [],
   "execution_count": 99
  },
  {
   "metadata": {
    "ExecuteTime": {
     "end_time": "2024-09-23T18:36:27.407976Z",
     "start_time": "2024-09-23T18:36:27.402523Z"
    }
   },
   "cell_type": "code",
   "source": [
    "from sklearn.metrics import recall_score\n",
    "\n",
    "# Call the function and print the recall\n",
    "recall = recall_score(true_labels, predicted_labels, average='weighted')\n",
    "print(f'Recall: {recall}')"
   ],
   "id": "e9df557e74c7b4c5",
   "outputs": [],
   "execution_count": 97
  },
  {
   "metadata": {
    "ExecuteTime": {
     "end_time": "2024-09-23T18:36:32.341416Z",
     "start_time": "2024-09-23T18:36:32.336879Z"
    }
   },
   "cell_type": "code",
   "source": [
    "from sklearn.metrics import f1_score\n",
    "\n",
    "# Call the function and print the F1 score\n",
    "f1 = f1_score(true_labels, predicted_labels, average='weighted')\n",
    "print(f'F1 Score: {f1}')"
   ],
   "id": "9d95bffa9dc6b629",
   "outputs": [],
   "execution_count": 98
  }
 ],
 "metadata": {
  "kernelspec": {
   "display_name": "Python 3",
   "language": "python",
   "name": "python3"
  },
  "language_info": {
   "codemirror_mode": {
    "name": "ipython",
    "version": 2
   },
   "file_extension": ".py",
   "mimetype": "text/x-python",
   "name": "python",
   "nbconvert_exporter": "python",
   "pygments_lexer": "ipython2",
   "version": "2.7.6"
  }
 },
 "nbformat": 4,
 "nbformat_minor": 5
}
